{
 "cells": [
  {
   "cell_type": "code",
   "execution_count": 1,
   "metadata": {},
   "outputs": [],
   "source": [
    "import pandas as pd\n",
    "import numpy as np\n",
    "grad=pd.read_csv(\"Grad_check2.csv\")"
   ]
  },
  {
   "cell_type": "code",
   "execution_count": 2,
   "metadata": {},
   "outputs": [
    {
     "data": {
      "text/html": [
       "<div>\n",
       "<style scoped>\n",
       "    .dataframe tbody tr th:only-of-type {\n",
       "        vertical-align: middle;\n",
       "    }\n",
       "\n",
       "    .dataframe tbody tr th {\n",
       "        vertical-align: top;\n",
       "    }\n",
       "\n",
       "    .dataframe thead th {\n",
       "        text-align: right;\n",
       "    }\n",
       "</style>\n",
       "<table border=\"1\" class=\"dataframe\">\n",
       "  <thead>\n",
       "    <tr style=\"text-align: right;\">\n",
       "      <th></th>\n",
       "      <th>Serial No.</th>\n",
       "      <th>GRE_Score</th>\n",
       "      <th>TOEFL_Score</th>\n",
       "      <th>University Rating</th>\n",
       "      <th>SOP</th>\n",
       "      <th>LOR</th>\n",
       "      <th>CGPA</th>\n",
       "      <th>Research</th>\n",
       "      <th>Chance_of_Admit</th>\n",
       "    </tr>\n",
       "  </thead>\n",
       "  <tbody>\n",
       "    <tr>\n",
       "      <td>0</td>\n",
       "      <td>1</td>\n",
       "      <td>337</td>\n",
       "      <td>118</td>\n",
       "      <td>4</td>\n",
       "      <td>4.5</td>\n",
       "      <td>4.5</td>\n",
       "      <td>9.65</td>\n",
       "      <td>1</td>\n",
       "      <td>0.92</td>\n",
       "    </tr>\n",
       "    <tr>\n",
       "      <td>1</td>\n",
       "      <td>2</td>\n",
       "      <td>324</td>\n",
       "      <td>107</td>\n",
       "      <td>4</td>\n",
       "      <td>4.0</td>\n",
       "      <td>4.5</td>\n",
       "      <td>8.87</td>\n",
       "      <td>1</td>\n",
       "      <td>0.76</td>\n",
       "    </tr>\n",
       "    <tr>\n",
       "      <td>2</td>\n",
       "      <td>3</td>\n",
       "      <td>316</td>\n",
       "      <td>104</td>\n",
       "      <td>3</td>\n",
       "      <td>3.0</td>\n",
       "      <td>3.5</td>\n",
       "      <td>8.00</td>\n",
       "      <td>1</td>\n",
       "      <td>0.72</td>\n",
       "    </tr>\n",
       "    <tr>\n",
       "      <td>3</td>\n",
       "      <td>4</td>\n",
       "      <td>322</td>\n",
       "      <td>110</td>\n",
       "      <td>3</td>\n",
       "      <td>3.5</td>\n",
       "      <td>2.5</td>\n",
       "      <td>8.67</td>\n",
       "      <td>1</td>\n",
       "      <td>0.80</td>\n",
       "    </tr>\n",
       "    <tr>\n",
       "      <td>4</td>\n",
       "      <td>5</td>\n",
       "      <td>314</td>\n",
       "      <td>103</td>\n",
       "      <td>2</td>\n",
       "      <td>2.0</td>\n",
       "      <td>3.0</td>\n",
       "      <td>8.21</td>\n",
       "      <td>0</td>\n",
       "      <td>0.65</td>\n",
       "    </tr>\n",
       "  </tbody>\n",
       "</table>\n",
       "</div>"
      ],
      "text/plain": [
       "   Serial No.  GRE_Score  TOEFL_Score  University Rating  SOP  LOR   CGPA  \\\n",
       "0           1        337          118                  4  4.5   4.5  9.65   \n",
       "1           2        324          107                  4  4.0   4.5  8.87   \n",
       "2           3        316          104                  3  3.0   3.5  8.00   \n",
       "3           4        322          110                  3  3.5   2.5  8.67   \n",
       "4           5        314          103                  2  2.0   3.0  8.21   \n",
       "\n",
       "   Research  Chance_of_Admit  \n",
       "0         1             0.92  \n",
       "1         1             0.76  \n",
       "2         1             0.72  \n",
       "3         1             0.80  \n",
       "4         0             0.65  "
      ]
     },
     "execution_count": 2,
     "metadata": {},
     "output_type": "execute_result"
    }
   ],
   "source": [
    "grad.head()"
   ]
  },
  {
   "cell_type": "code",
   "execution_count": 3,
   "metadata": {},
   "outputs": [
    {
     "data": {
      "text/html": [
       "<div>\n",
       "<style scoped>\n",
       "    .dataframe tbody tr th:only-of-type {\n",
       "        vertical-align: middle;\n",
       "    }\n",
       "\n",
       "    .dataframe tbody tr th {\n",
       "        vertical-align: top;\n",
       "    }\n",
       "\n",
       "    .dataframe thead th {\n",
       "        text-align: right;\n",
       "    }\n",
       "</style>\n",
       "<table border=\"1\" class=\"dataframe\">\n",
       "  <thead>\n",
       "    <tr style=\"text-align: right;\">\n",
       "      <th></th>\n",
       "      <th>Serial No.</th>\n",
       "      <th>GRE_Score</th>\n",
       "      <th>TOEFL_Score</th>\n",
       "      <th>University Rating</th>\n",
       "      <th>SOP</th>\n",
       "      <th>LOR</th>\n",
       "      <th>CGPA</th>\n",
       "      <th>Research</th>\n",
       "      <th>Chance_of_Admit</th>\n",
       "    </tr>\n",
       "  </thead>\n",
       "  <tbody>\n",
       "    <tr>\n",
       "      <td>95</td>\n",
       "      <td>96</td>\n",
       "      <td>304</td>\n",
       "      <td>100</td>\n",
       "      <td>4</td>\n",
       "      <td>1.5</td>\n",
       "      <td>2.5</td>\n",
       "      <td>7.84</td>\n",
       "      <td>0</td>\n",
       "      <td>0.42</td>\n",
       "    </tr>\n",
       "    <tr>\n",
       "      <td>96</td>\n",
       "      <td>97</td>\n",
       "      <td>306</td>\n",
       "      <td>100</td>\n",
       "      <td>2</td>\n",
       "      <td>3.0</td>\n",
       "      <td>3.0</td>\n",
       "      <td>8.00</td>\n",
       "      <td>0</td>\n",
       "      <td>0.48</td>\n",
       "    </tr>\n",
       "    <tr>\n",
       "      <td>97</td>\n",
       "      <td>98</td>\n",
       "      <td>331</td>\n",
       "      <td>120</td>\n",
       "      <td>3</td>\n",
       "      <td>4.0</td>\n",
       "      <td>4.0</td>\n",
       "      <td>8.96</td>\n",
       "      <td>1</td>\n",
       "      <td>0.86</td>\n",
       "    </tr>\n",
       "    <tr>\n",
       "      <td>98</td>\n",
       "      <td>99</td>\n",
       "      <td>332</td>\n",
       "      <td>119</td>\n",
       "      <td>4</td>\n",
       "      <td>5.0</td>\n",
       "      <td>4.5</td>\n",
       "      <td>9.24</td>\n",
       "      <td>1</td>\n",
       "      <td>0.90</td>\n",
       "    </tr>\n",
       "    <tr>\n",
       "      <td>99</td>\n",
       "      <td>100</td>\n",
       "      <td>323</td>\n",
       "      <td>113</td>\n",
       "      <td>3</td>\n",
       "      <td>4.0</td>\n",
       "      <td>4.0</td>\n",
       "      <td>8.88</td>\n",
       "      <td>1</td>\n",
       "      <td>0.79</td>\n",
       "    </tr>\n",
       "  </tbody>\n",
       "</table>\n",
       "</div>"
      ],
      "text/plain": [
       "    Serial No.  GRE_Score  TOEFL_Score  University Rating  SOP  LOR   CGPA  \\\n",
       "95          96        304          100                  4  1.5   2.5  7.84   \n",
       "96          97        306          100                  2  3.0   3.0  8.00   \n",
       "97          98        331          120                  3  4.0   4.0  8.96   \n",
       "98          99        332          119                  4  5.0   4.5  9.24   \n",
       "99         100        323          113                  3  4.0   4.0  8.88   \n",
       "\n",
       "    Research  Chance_of_Admit  \n",
       "95         0             0.42  \n",
       "96         0             0.48  \n",
       "97         1             0.86  \n",
       "98         1             0.90  \n",
       "99         1             0.79  "
      ]
     },
     "execution_count": 3,
     "metadata": {},
     "output_type": "execute_result"
    }
   ],
   "source": [
    "grad.tail()"
   ]
  },
  {
   "cell_type": "code",
   "execution_count": 4,
   "metadata": {},
   "outputs": [
    {
     "data": {
      "text/plain": [
       "(100, 9)"
      ]
     },
     "execution_count": 4,
     "metadata": {},
     "output_type": "execute_result"
    }
   ],
   "source": [
    "grad.shape"
   ]
  },
  {
   "cell_type": "code",
   "execution_count": 5,
   "metadata": {},
   "outputs": [],
   "source": [
    "grad=grad[[\"GRE_Score\",\"CGPA\",\"Chance_of_Admit\"]]"
   ]
  },
  {
   "cell_type": "code",
   "execution_count": 6,
   "metadata": {},
   "outputs": [
    {
     "data": {
      "text/plain": [
       "(100, 3)"
      ]
     },
     "execution_count": 6,
     "metadata": {},
     "output_type": "execute_result"
    }
   ],
   "source": [
    "grad.shape"
   ]
  },
  {
   "cell_type": "code",
   "execution_count": 7,
   "metadata": {},
   "outputs": [],
   "source": [
    "x1s=grad.GRE_Score\n",
    "x2s=grad.CGPA\n",
    "ys=grad.Chance_of_Admit\n",
    "x1 = np.array(x1s)\n",
    "x2 = np.array(x2s)\n",
    "y  = np.array(ys)"
   ]
  },
  {
   "cell_type": "code",
   "execution_count": 8,
   "metadata": {},
   "outputs": [
    {
     "data": {
      "text/plain": [
       "(100,\n",
       " 31783,\n",
       " 852.32,\n",
       " 68.25000000000001,\n",
       " 21860.969999999998,\n",
       " 591.7460000000001,\n",
       " 10115989,\n",
       " 7312.2644,\n",
       " 271559.73)"
      ]
     },
     "execution_count": 8,
     "metadata": {},
     "output_type": "execute_result"
    }
   ],
   "source": [
    "n        = len(ys)\n",
    "sum_x1   = np.sum(x1)\n",
    "sum_x2   = np.sum(x2)\n",
    "sum_y    = np.sum(y)\n",
    "sum_x1y  = np.sum(x1*y)\n",
    "sum_x2y  = np.sum(x2*y)\n",
    "sum_x1x1 = np.sum(x1*x1)\n",
    "sum_x2x2 = np.sum(x2*x2)\n",
    "sum_x1x2 = np.sum(x1*x2)\n",
    "\n",
    "n, sum_x1, sum_x2, sum_y, sum_x1y, sum_x2y, sum_x1x1, sum_x2x2 , sum_x1x2"
   ]
  },
  {
   "cell_type": "code",
   "execution_count": 9,
   "metadata": {},
   "outputs": [
    {
     "data": {
      "text/plain": [
       "(array([  100.  , 31783.  ,   852.32,    68.25]),\n",
       " array([   31783.  , 10115989.  ,   271559.73,    21860.97]),\n",
       " array([   852.32  , 271559.73  ,   7312.2644,    591.746 ]))"
      ]
     },
     "execution_count": 9,
     "metadata": {},
     "output_type": "execute_result"
    }
   ],
   "source": [
    "# The system of normal equations\n",
    "eqn1 = np.array([n, sum_x1, sum_x2, sum_y])\n",
    "eqn2 = np.array([sum_x1, sum_x1x1, sum_x1x2, sum_x1y])\n",
    "eqn3 = np.array([sum_x2, sum_x1x2, sum_x2x2, sum_x2y])\n",
    "eqn1, eqn2, eqn3\n",
    "\n"
   ]
  },
  {
   "cell_type": "code",
   "execution_count": 10,
   "metadata": {},
   "outputs": [
    {
     "name": "stdout",
     "output_type": "stream",
     "text": [
      "[-2.23964256  0.00568895  0.13070471]\n"
     ]
    }
   ],
   "source": [
    "import numpy as np\n",
    "a = np.array([[100.  , 31783.  ,   852.32], [31783.  , 10115989.  ,   271559.73], [ 852.32  , 271559.73  ,   7312.2644]])\n",
    "b = np.array([68.25, 21860.97, 591.746])\n",
    "x = np.linalg.solve(a, b)\n",
    "print(x)"
   ]
  },
  {
   "cell_type": "code",
   "execution_count": 11,
   "metadata": {},
   "outputs": [],
   "source": [
    "β0 = x[0]\n",
    "β1 = x[1]\n",
    "β2 = x[2]  "
   ]
  },
  {
   "cell_type": "code",
   "execution_count": 21,
   "metadata": {},
   "outputs": [],
   "source": [
    "def ChanceAdmit(β0, β1, β2, x1, x2):\n",
    "    \"\"\"\n",
    "    Estimate the chance of admit.\n",
    "    @param β0, β1, β2 the regression coefficients.\n",
    "    @param x1 is GRE score\n",
    "    @param x2 is CGPA\n",
    "    @return the Chance of admit.\n",
    "    \"\"\"\n",
    "    return β0 + β1*x1 + β2*x2"
   ]
  },
  {
   "cell_type": "code",
   "execution_count": 24,
   "metadata": {},
   "outputs": [
    {
     "name": "stdout",
     "output_type": "stream",
     "text": [
      "Estimated chance of admit for a student with 334 Gre score and 9 CGPA is 0.84\n"
     ]
    }
   ],
   "source": [
    "x1 = 334  # GRE score\n",
    "x2 = 9  # CGPA\n",
    "\n",
    "y_hat = ChanceAdmit(β0, β1, β2, x1, x2)\n",
    "print(f'Estimated chance of admit for a student with {x1} Gre score and {x2} CGPA is {y_hat:,.2f}')"
   ]
  },
  {
   "cell_type": "code",
   "execution_count": 25,
   "metadata": {},
   "outputs": [
    {
     "name": "stdout",
     "output_type": "stream",
     "text": [
      "Estimated chance of admit for a student with 334 Gre score and 9.5 CGPA is 0.90\n"
     ]
    }
   ],
   "source": [
    "x1 = 334  # GRE score\n",
    "x2 = 9.5  # CGPA\n",
    "\n",
    "y_hat = ChanceAdmit(β0, β1, β2, x1, x2)\n",
    "print(f'Estimated chance of admit for a student with {x1} Gre score and {x2} CGPA is {y_hat:,.2f}')"
   ]
  },
  {
   "cell_type": "code",
   "execution_count": 15,
   "metadata": {},
   "outputs": [],
   "source": [
    "x=np.array(grad.GRE_Score)\n",
    "y=np.array(grad.Chance_of_Admit)\n",
    "import numpy as np\n",
    "\n",
    "def calculate_slope_intercept(x_values, y_values):\n",
    "    \n",
    "    x = np.array(x_values)\n",
    "    y = np.array(y_values)\n",
    "    \n",
    "    n = len(x)\n",
    "    sum_x  = np.sum(x)\n",
    "    sum_y  = np.sum(y)\n",
    "    sum_xx = np.sum(x*x)\n",
    "    sum_xy = np.sum(x*y)\n",
    "    mean_x = np.mean(x)\n",
    "    mean_y = np.mean(y)\n",
    "    \n",
    "    numerator = sum_xy - (sum_x*sum_y)/n\n",
    "    denominator = sum_xx - ((sum_x*sum_x)/n)\n",
    "    \n",
    "    m = numerator/denominator\n",
    "    b = mean_y - m*mean_x\n",
    "    \n",
    "    return m, b  # slope and intercept"
   ]
  },
  {
   "cell_type": "code",
   "execution_count": 16,
   "metadata": {},
   "outputs": [],
   "source": [
    "import matplotlib.pyplot as plt\n",
    "\n",
    "def show_least_squares_line(title, x_label, y_label, \n",
    "                            x_values, y_values):\n",
    "   \n",
    "    # First show the scatter plot.\n",
    "    plt.scatter(x_values, y_values)\n",
    "    \n",
    "    # Now show the least squares line.\n",
    "    m, b = calculate_slope_intercept(x_values, y_values)\n",
    "    reg_line = [m*x + b for x in x_values]  # regression line\n",
    "    plt.plot(x, reg_line, color='red')\n",
    "\n",
    "    plt.title(f'{title}, m = {m:.2f}, b = {b:.2f}')\n",
    "    plt.ylabel(x_label)\n",
    "    plt.xlabel(y_label)\n",
    "\n",
    "    plt.show()"
   ]
  },
  {
   "cell_type": "code",
   "execution_count": 17,
   "metadata": {},
   "outputs": [
    {
     "data": {
      "image/png": "[encoded data removed]",
      "text/plain": [
       "<Figure size 432x288 with 1 Axes>"
      ]
     },
     "metadata": {
      "needs_background": "light"
     },
     "output_type": "display_data"
    }
   ],
   "source": [
    "calculate_slope_intercept(x, y)\n",
    "show_least_squares_line('Linear Regression Line', 'Dependent variable-Chance of Admit', \n",
    "                        'Independent variable-GRE score', x, y)"
   ]
  },
  {
   "cell_type": "code",
   "execution_count": null,
   "metadata": {},
   "outputs": [],
   "source": []
  },
  {
   "cell_type": "code",
   "execution_count": 18,
   "metadata": {},
   "outputs": [],
   "source": [
    "x=np.array(grad.CGPA)\n",
    "y=np.array(grad.Chance_of_Admit)\n",
    "import numpy as np\n",
    "\n",
    "def calculate_slope_intercept(x_values, y_values):\n",
    "    \n",
    "    x = np.array(x_values)\n",
    "    y = np.array(y_values)\n",
    "    \n",
    "    n = len(x)\n",
    "    sum_x  = np.sum(x)\n",
    "    sum_y  = np.sum(y)\n",
    "    sum_xx = np.sum(x*x)\n",
    "    sum_xy = np.sum(x*y)\n",
    "    mean_x = np.mean(x)\n",
    "    mean_y = np.mean(y)\n",
    "    \n",
    "    numerator = sum_xy - (sum_x*sum_y)/n\n",
    "    denominator = sum_xx - ((sum_x*sum_x)/n)\n",
    "    \n",
    "    m = numerator/denominator\n",
    "    b = mean_y - m*mean_x\n",
    "    \n",
    "    return m, b  # slope and intercept"
   ]
  },
  {
   "cell_type": "code",
   "execution_count": 19,
   "metadata": {},
   "outputs": [],
   "source": [
    "import matplotlib.pyplot as plt\n",
    "\n",
    "def show_least_squares_line(title, x_label, y_label, \n",
    "                            x_values, y_values):\n",
    "   \n",
    "    # First show the scatter plot.\n",
    "    plt.scatter(x_values, y_values)\n",
    "    \n",
    "    # Now show the least squares line.\n",
    "    m, b = calculate_slope_intercept(x_values, y_values)\n",
    "    reg_line = [m*x + b for x in x_values]  # regression line\n",
    "    plt.plot(x, reg_line, color='red')\n",
    "\n",
    "    plt.title(f'{title}, m = {m:.2f}, b = {b:.2f}')\n",
    "    plt.ylabel(x_label)\n",
    "    plt.xlabel(y_label)\n",
    "\n",
    "    plt.show()"
   ]
  },
  {
   "cell_type": "code",
   "execution_count": 20,
   "metadata": {},
   "outputs": [
    {
     "data": {
      "image/png": "[encoded data removed]",
      "text/plain": [
       "<Figure size 432x288 with 1 Axes>"
      ]
     },
     "metadata": {
      "needs_background": "light"
     },
     "output_type": "display_data"
    }
   ],
   "source": [
    "calculate_slope_intercept(x, y)\n",
    "show_least_squares_line('Linear Regression Line', 'Dependent variable-Chance of Admit', \n",
    "                        'Independent variable-CGPA', x, y)"
   ]
  },
  {
   "cell_type": "code",
   "execution_count": 404,
   "metadata": {},
   "outputs": [
    {
     "data": {
      "text/html": [
       "<div>\n",
       "<style scoped>\n",
       "    .dataframe tbody tr th:only-of-type {\n",
       "        vertical-align: middle;\n",
       "    }\n",
       "\n",
       "    .dataframe tbody tr th {\n",
       "        vertical-align: top;\n",
       "    }\n",
       "\n",
       "    .dataframe thead th {\n",
       "        text-align: right;\n",
       "    }\n",
       "</style>\n",
       "<table border=\"1\" class=\"dataframe\">\n",
       "  <thead>\n",
       "    <tr style=\"text-align: right;\">\n",
       "      <th></th>\n",
       "      <th>GRE_Score</th>\n",
       "      <th>CGPA</th>\n",
       "      <th>Chance_of_Admit</th>\n",
       "    </tr>\n",
       "  </thead>\n",
       "  <tbody>\n",
       "    <tr>\n",
       "      <td>count</td>\n",
       "      <td>100.000000</td>\n",
       "      <td>100.000000</td>\n",
       "      <td>100.000000</td>\n",
       "    </tr>\n",
       "    <tr>\n",
       "      <td>mean</td>\n",
       "      <td>317.830000</td>\n",
       "      <td>8.523200</td>\n",
       "      <td>0.682500</td>\n",
       "    </tr>\n",
       "    <tr>\n",
       "      <td>std</td>\n",
       "      <td>12.059662</td>\n",
       "      <td>0.694645</td>\n",
       "      <td>0.175288</td>\n",
       "    </tr>\n",
       "    <tr>\n",
       "      <td>min</td>\n",
       "      <td>294.000000</td>\n",
       "      <td>6.800000</td>\n",
       "      <td>0.340000</td>\n",
       "    </tr>\n",
       "    <tr>\n",
       "      <td>25%</td>\n",
       "      <td>308.750000</td>\n",
       "      <td>8.000000</td>\n",
       "      <td>0.537500</td>\n",
       "    </tr>\n",
       "    <tr>\n",
       "      <td>50%</td>\n",
       "      <td>318.000000</td>\n",
       "      <td>8.410000</td>\n",
       "      <td>0.670000</td>\n",
       "    </tr>\n",
       "    <tr>\n",
       "      <td>75%</td>\n",
       "      <td>327.000000</td>\n",
       "      <td>9.100000</td>\n",
       "      <td>0.840000</td>\n",
       "    </tr>\n",
       "    <tr>\n",
       "      <td>max</td>\n",
       "      <td>340.000000</td>\n",
       "      <td>9.800000</td>\n",
       "      <td>0.970000</td>\n",
       "    </tr>\n",
       "  </tbody>\n",
       "</table>\n",
       "</div>"
      ],
      "text/plain": [
       "        GRE_Score        CGPA  Chance_of_Admit\n",
       "count  100.000000  100.000000       100.000000\n",
       "mean   317.830000    8.523200         0.682500\n",
       "std     12.059662    0.694645         0.175288\n",
       "min    294.000000    6.800000         0.340000\n",
       "25%    308.750000    8.000000         0.537500\n",
       "50%    318.000000    8.410000         0.670000\n",
       "75%    327.000000    9.100000         0.840000\n",
       "max    340.000000    9.800000         0.970000"
      ]
     },
     "execution_count": 404,
     "metadata": {},
     "output_type": "execute_result"
    }
   ],
   "source": [
    "grad.describe()"
   ]
  },
  {
   "cell_type": "code",
   "execution_count": 405,
   "metadata": {},
   "outputs": [
    {
     "name": "stdout",
     "output_type": "stream",
     "text": [
      "    GRE_Score  CGPA  Chance_of_Admit\n",
      "71        336  9.76             0.96\n",
      "28        295  7.20             0.46\n",
      "9         323  8.60             0.45\n",
      "4         314  8.21             0.65\n",
      "73        314  9.04             0.84\n",
      "34        331  9.80             0.94\n",
      "94        303  7.66             0.36\n",
      "92        298  8.03             0.34\n",
      "47        339  9.70             0.89\n",
      "37        300  7.80             0.58\n"
     ]
    }
   ],
   "source": [
    "sample_df = grad.sample(frac=0.1, random_state=17)\n",
    "print(sample_df)"
   ]
  },
  {
   "cell_type": "code",
   "execution_count": 406,
   "metadata": {},
   "outputs": [],
   "source": [
    "import matplotlib.pyplot as plt\n",
    "import seaborn as sns\n",
    "\n",
    "sns.set(font_scale=2)\n",
    "sns.set_style('whitegrid')"
   ]
  },
  {
   "cell_type": "code",
   "execution_count": 407,
   "metadata": {},
   "outputs": [],
   "source": [
    "x1s=grad.GRE_Score\n",
    "x2s=grad.CGPA\n",
    "ys=grad.Chance_of_Admit\n",
    "x1 = np.array(x1s)\n",
    "x2 = np.array(x2s)\n",
    "y  = np.array(ys)"
   ]
  },
  {
   "cell_type": "code",
   "execution_count": 408,
   "metadata": {},
   "outputs": [
    {
     "data": {
      "text/plain": [
       "<matplotlib.axes._subplots.AxesSubplot at 0x2598475bb08>"
      ]
     },
     "execution_count": 408,
     "metadata": {},
     "output_type": "execute_result"
    },
    {
     "data": {
      "image/png": "[encoded data removed]",
      "text/plain": [
       "<Figure size 1152x648 with 1 Axes>"
      ]
     },
     "metadata": {},
     "output_type": "display_data"
    }
   ],
   "source": [
    "plt.figure(figsize=(16, 9))\n",
    "sns.scatterplot(data=sample_df, x=x1s, y=ys, hue=ys, \n",
    "palette='cool', legend=False)"
   ]
  },
  {
   "cell_type": "code",
   "execution_count": 409,
   "metadata": {},
   "outputs": [
    {
     "data": {
      "text/plain": [
       "<matplotlib.axes._subplots.AxesSubplot at 0x259847abd08>"
      ]
     },
     "execution_count": 409,
     "metadata": {},
     "output_type": "execute_result"
    },
    {
     "data": {
      "image/png": "[encoded data removed]",
      "text/plain": [
       "<Figure size 1152x648 with 1 Axes>"
      ]
     },
     "metadata": {},
     "output_type": "display_data"
    }
   ],
   "source": [
    "plt.figure(figsize=(16, 9))\n",
    "sns.scatterplot(data=sample_df, x=x2s, y=ys, hue=ys, \n",
    "palette='cool', legend=False)"
   ]
  },
  {
   "cell_type": "code",
   "execution_count": 410,
   "metadata": {},
   "outputs": [
    {
     "name": "stdout",
     "output_type": "stream",
     "text": [
      "    GRE_Score  CGPA\n",
      "0         337  9.65\n",
      "1         324  8.87\n",
      "2         316  8.00\n",
      "3         322  8.67\n",
      "4         314  8.21\n",
      "..        ...   ...\n",
      "95        304  7.84\n",
      "96        306  8.00\n",
      "97        331  8.96\n",
      "98        332  9.24\n",
      "99        323  8.88\n",
      "\n",
      "[100 rows x 2 columns]\n"
     ]
    }
   ],
   "source": [
    "data=pd.concat([grad.GRE_Score,grad.CGPA],axis=1)\n",
    "print(data)\n",
    "\n"
   ]
  },
  {
   "cell_type": "code",
   "execution_count": 411,
   "metadata": {},
   "outputs": [
    {
     "name": "stdout",
     "output_type": "stream",
     "text": [
      "[[337.0, 9.65], [324.0, 8.87], [316.0, 8.0], [322.0, 8.67], [314.0, 8.21], [330.0, 9.34], [321.0, 8.2], [308.0, 7.9], [302.0, 8.0], [323.0, 8.6], [325.0, 8.4], [327.0, 9.0], [328.0, 9.1], [307.0, 8.0], [311.0, 8.2], [314.0, 8.3], [317.0, 8.7], [319.0, 8.0], [318.0, 8.8], [303.0, 8.5], [312.0, 7.9], [325.0, 8.4], [328.0, 9.5], [334.0, 9.7], [336.0, 9.8], [340.0, 9.6], [322.0, 8.8], [298.0, 7.5], [295.0, 7.2], [310.0, 7.3], [300.0, 8.1], [327.0, 8.3], [338.0, 9.4], [340.0, 9.6], [331.0, 9.8], [320.0, 9.2], [299.0, 8.4], [300.0, 7.8], [304.0, 7.5], [307.0, 7.7], [308.0, 8.0], [316.0, 8.2], [313.0, 8.5], [332.0, 9.1], [326.0, 9.4], [322.0, 9.1], [329.0, 9.3], [339.0, 9.7], [321.0, 8.85], [327.0, 8.4], [313.0, 8.3], [312.0, 7.9], [334.0, 8.0], [324.0, 8.1], [322.0, 8.0], [320.0, 7.7], [316.0, 7.4], [298.0, 7.6], [300.0, 6.8], [311.0, 8.3], [309.0, 8.1], [307.0, 8.2], [304.0, 8.2], [315.0, 8.5], [325.0, 8.7], [325.0, 8.92], [327.0, 9.02], [316.0, 8.64], [318.0, 9.22], [328.0, 9.16], [332.0, 9.64], [336.0, 9.76], [321.0, 9.45], [314.0, 9.04], [314.0, 8.9], [329.0, 8.56], [327.0, 8.72], [301.0, 8.22], [296.0, 7.54], [294.0, 7.36], [312.0, 8.02], [340.0, 9.5], [320.0, 9.22], [322.0, 9.36], [340.0, 9.45], [319.0, 8.66], [315.0, 8.42], [317.0, 8.28], [314.0, 8.14], [316.0, 8.76], [318.0, 7.92], [299.0, 7.66], [298.0, 8.03], [301.0, 7.88], [303.0, 7.66], [304.0, 7.84], [306.0, 8.0], [331.0, 8.96], [332.0, 9.24], [323.0, 8.88]]\n"
     ]
    }
   ],
   "source": [
    "x_1_2_list= data.to_numpy().tolist()\n",
    "print(listDF)\n",
    "x_1_2=np.array(x_1_2_list)"
   ]
  },
  {
   "cell_type": "code",
   "execution_count": 412,
   "metadata": {},
   "outputs": [
    {
     "name": "stdout",
     "output_type": "stream",
     "text": [
      "Shape of training set = (75, 2)\n",
      "Shape of testing  set = (25, 2)\n"
     ]
    }
   ],
   "source": [
    "from sklearn.model_selection import train_test_split\n",
    "\n",
    "X_train, X_test, y_train, y_test = \\\n",
    "    train_test_split(x_1_2, y, random_state=11)\n",
    "\n",
    "print(f'Shape of training set = {X_train.shape}')\n",
    "print(f'Shape of testing  set = {X_test.shape}')"
   ]
  },
  {
   "cell_type": "code",
   "execution_count": 413,
   "metadata": {},
   "outputs": [
    {
     "name": "stdout",
     "output_type": "stream",
     "text": [
      "  GRE_Score:   0.00578895413315291645\n",
      "       CGPA:   0.13055722835053013009\n",
      "\n",
      "y-intercept: -2.27611647898188040884\n"
     ]
    }
   ],
   "source": [
    "grad_names=[\"GRE_Score\",\"CGPA\"]\n",
    "from sklearn.linear_model import LinearRegression\n",
    "\n",
    "linear_regression = LinearRegression()\n",
    "linear_regression.fit(X=X_train, y=y_train)\n",
    "\n",
    "for i, name in enumerate(grad_names):\n",
    "    print(f'{name:>11}: {linear_regression.coef_[i]:24.20f}')\n",
    "\n",
    "print()\n",
    "print(f'y-intercept: {linear_regression.intercept_:23.20f}')"
   ]
  },
  {
   "cell_type": "code",
   "execution_count": 414,
   "metadata": {},
   "outputs": [
    {
     "name": "stdout",
     "output_type": "stream",
     "text": [
      "coefficient of determination = 0.8\n",
      "     correlation coefficient = 0.9\n"
     ]
    }
   ],
   "source": [
    "import math\n",
    "from sklearn import metrics\n",
    "\n",
    "predicted = linear_regression.predict(X_test)\n",
    "expected  = y_test\n",
    "\n",
    "r2 = metrics.r2_score(expected, predicted)\n",
    "r  = math.sqrt(r2)\n",
    "\n",
    "print(f'coefficient of determination = {r2:.1f}')\n",
    "print(f'     correlation coefficient = {r:.1f}')"
   ]
  },
  {
   "cell_type": "code",
   "execution_count": 415,
   "metadata": {},
   "outputs": [
    {
     "data": {
      "image/png": "[encoded data removed]",
      "text/plain": [
       "<Figure size 1080x720 with 1 Axes>"
      ]
     },
     "metadata": {},
     "output_type": "display_data"
    }
   ],
   "source": [
    "df = pd.DataFrame()\n",
    "\n",
    "df['Expected']  = pd.Series(expected)\n",
    "df['Predicted'] = pd.Series(predicted)\n",
    "\n",
    "figure = plt.figure(figsize=(15, 10))\n",
    "\n",
    "axes = sns.scatterplot(data=df, x='Expected', y='Predicted', \n",
    "                       hue='Predicted', palette='cool', \n",
    "                       legend=False)\n",
    "\n",
    "start = min(expected.min(), predicted.min())\n",
    "end   = max(expected.max(), predicted.max())\n",
    "\n",
    "axes.set_xlim(start, end)\n",
    "axes.set_ylim(start, end)\n",
    "\n",
    "line = plt.plot([start, end], [start, end], 'k--')"
   ]
  },
  {
   "cell_type": "code",
   "execution_count": null,
   "metadata": {},
   "outputs": [],
   "source": []
  },
  {
   "cell_type": "code",
   "execution_count": null,
   "metadata": {},
   "outputs": [],
   "source": []
  }
 ],
 "metadata": {
  "kernelspec": {
   "display_name": "Python 3",
   "language": "python",
   "name": "python3"
  },
  "language_info": {
   "codemirror_mode": {
    "name": "ipython",
    "version": 3
   },
   "file_extension": ".py",
   "mimetype": "text/x-python",
   "name": "python",
   "nbconvert_exporter": "python",
   "pygments_lexer": "ipython3",
   "version": "3.7.4"
  }
 },
 "nbformat": 4,
 "nbformat_minor": 4
}
